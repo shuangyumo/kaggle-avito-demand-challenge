{
 "cells": [
  {
   "cell_type": "markdown",
   "metadata": {},
   "source": [
    "## Clean text"
   ]
  },
  {
   "cell_type": "code",
   "execution_count": 1,
   "metadata": {},
   "outputs": [
    {
     "name": "stdout",
     "output_type": "stream",
     "text": [
      "merge done\n",
      "description clean text done\n",
      "title text features saved\n",
      "param text features saved\n",
      "desc text features saved\n"
     ]
    }
   ],
   "source": [
    "import numpy as np # linear algebra\n",
    "import pandas as pd # data processing, CSV file I/O (e.g. pd.read_csv)\n",
    "import gc; gc.enable()\n",
    "\n",
    "# Input data files are available in the \"../input/\" directory.\n",
    "# For example, running this (by clicking run or pressing Shift+Enter) will list the files in the input directory\n",
    "\n",
    "import os\n",
    "\n",
    "# Any results you write to the current directory are saved as output.\n",
    "\n",
    "text_cols = ['param_1', 'param_2', 'param_3', 'title', 'description']\n",
    "train = pd.read_csv('data/train.csv', parse_dates=['activation_date'], usecols=text_cols+['activation_date']) \\\n",
    "          .sort_values('activation_date') \\\n",
    "          .reset_index(drop=True)\n",
    "test = pd.read_csv('data/test.csv', parse_dates=['activation_date'],  usecols=text_cols+['activation_date'])\n",
    "\n",
    "all_df = pd.concat([train,test]).reset_index(drop=True)\n",
    "del train, test; gc.collect()\n",
    "\n",
    "all_df.loc[:, text_cols] = all_df[text_cols].fillna('khyehwinkaggle')\n",
    "\n",
    "title_feature = all_df['title']\n",
    "param_feature = all_df['param_1'] + ' ' + all_df['param_2'] + ' ' + all_df['param_3']\n",
    "text_feature =  all_df['description']\n",
    "                \n",
    "del all_df; gc.collect()\n",
    "print('merge done')    \n",
    "                \n",
    "from nltk.corpus import stopwords                \n",
    "from nltk.stem.snowball import RussianStemmer\n",
    "stemmer = RussianStemmer(ignore_stopwords=False)\n",
    "def clean_text(txt):\n",
    "    words = str(txt).lower().strip().split(\" \\t\\r.,!?^+-*/@~:;/\\\\\\\"\\'&{}[]()#$%\") #str(txt).split(\" \") #\n",
    "    words = [stemmer.stem(wrd) for wrd in words \\\n",
    "                if wrd not in stopwords.words('russian') and len(wrd) > 1]\n",
    "    txt = u\" \".join(words)\n",
    "    return txt\n",
    "all_texts = text_feature.apply(clean_text); print('description clean text done')  \n",
    "\n",
    "import pickle\n",
    "with open('title_text_feature.pickle', 'wb') as handle:\n",
    "    pickle.dump(title_feature, handle, protocol=pickle.HIGHEST_PROTOCOL)\n",
    "    print('title text features saved')\n",
    "\n",
    "with open('param_text_feature.pickle', 'wb') as handle:\n",
    "    pickle.dump(param_feature, handle, protocol=pickle.HIGHEST_PROTOCOL)\n",
    "    print('param text features saved')\n",
    "    \n",
    "with open('desc_text_feature.pickle', 'wb') as handle:\n",
    "    pickle.dump(all_texts, handle, protocol=pickle.HIGHEST_PROTOCOL)\n",
    "    print('desc text features saved')"
   ]
  },
  {
   "cell_type": "markdown",
   "metadata": {},
   "source": [
    "## Generate count vec for title & params"
   ]
  },
  {
   "cell_type": "code",
   "execution_count": 1,
   "metadata": {
    "collapsed": true
   },
   "outputs": [],
   "source": [
    "import pandas as pd\n",
    "import numpy as np\n",
    "import gc; gc.enable()\n",
    "from sklearn.feature_extraction.text import CountVectorizer, TfidfVectorizer\n",
    "from nltk.corpus import stopwords\n",
    "import pickle\n",
    "from scipy.sparse import csr_matrix"
   ]
  },
  {
   "cell_type": "code",
   "execution_count": 2,
   "metadata": {},
   "outputs": [
    {
     "name": "stdout",
     "output_type": "stream",
     "text": [
      "title text features loaded\n",
      "title cv transformed\n",
      "title text features saved\n"
     ]
    }
   ],
   "source": [
    "with open('title_text_feature.pickle', 'rb') as handle:\n",
    "    title_feature = pickle.load(handle)\n",
    "    print('title text features loaded')\n",
    "    \n",
    "count_vectorizer_title = CountVectorizer(stop_words=stopwords.words('russian'), lowercase=True, min_df=25)\n",
    "title_feature = count_vectorizer_title.fit_transform(title_feature); print('title cv transformed')\n",
    "\n",
    "with open('title_text_feature_count_vec.pickle', 'wb') as handle:\n",
    "    pickle.dump(title_feature, handle, protocol=pickle.HIGHEST_PROTOCOL)\n",
    "    print('title text features saved')"
   ]
  },
  {
   "cell_type": "code",
   "execution_count": 3,
   "metadata": {},
   "outputs": [
    {
     "data": {
      "text/plain": [
       "(2011862, 16447)"
      ]
     },
     "execution_count": 3,
     "metadata": {},
     "output_type": "execute_result"
    }
   ],
   "source": [
    "title_feature.shape"
   ]
  },
  {
   "cell_type": "code",
   "execution_count": 7,
   "metadata": {},
   "outputs": [
    {
     "name": "stdout",
     "output_type": "stream",
     "text": [
      "param text features loaded\n",
      "param cv transformed\n",
      "title text features saved\n"
     ]
    }
   ],
   "source": [
    "del title_feature\n",
    "with open('param_text_feature.pickle', 'rb') as handle:\n",
    "    param_feature = pickle.load(handle)\n",
    "    print('param text features loaded')\n",
    "    \n",
    "count_vectorizer_param = CountVectorizer(stop_words=stopwords.words('russian'), lowercase=True, min_df=10)\n",
    "param_feature = count_vectorizer_param.fit_transform(param_feature); print('param cv transformed')\n",
    "\n",
    "with open('param_text_feature_count_vec.pickle', 'wb') as handle:\n",
    "    pickle.dump(param_feature, handle, protocol=pickle.HIGHEST_PROTOCOL)\n",
    "    print('param text features saved')"
   ]
  },
  {
   "cell_type": "code",
   "execution_count": 8,
   "metadata": {},
   "outputs": [
    {
     "data": {
      "text/plain": [
       "(2011862, 1390)"
      ]
     },
     "execution_count": 8,
     "metadata": {},
     "output_type": "execute_result"
    }
   ],
   "source": [
    "param_feature.shape"
   ]
  },
  {
   "cell_type": "code",
   "execution_count": null,
   "metadata": {
    "collapsed": true
   },
   "outputs": [],
   "source": [
    "del param_feature"
   ]
  },
  {
   "cell_type": "markdown",
   "metadata": {},
   "source": [
    "## Generate TF-IDF + 1-gram BOW + 2-gram BOW for descriptions"
   ]
  },
  {
   "cell_type": "code",
   "execution_count": 2,
   "metadata": {
    "collapsed": true
   },
   "outputs": [],
   "source": [
    "import pandas as pd\n",
    "import numpy as np\n",
    "import gc; gc.enable()\n",
    "from sklearn.feature_extraction.text import CountVectorizer, TfidfVectorizer\n",
    "from nltk.corpus import stopwords\n",
    "import pickle\n",
    "from scipy.sparse import csr_matrix"
   ]
  },
  {
   "cell_type": "code",
   "execution_count": 3,
   "metadata": {},
   "outputs": [
    {
     "name": "stdout",
     "output_type": "stream",
     "text": [
      "desc text features loaded\n"
     ]
    }
   ],
   "source": [
    "with open('desc_text_feature.pickle', 'rb') as handle:\n",
    "    all_texts = pickle.load(handle)\n",
    "    print('desc text features loaded')"
   ]
  },
  {
   "cell_type": "code",
   "execution_count": 4,
   "metadata": {},
   "outputs": [
    {
     "name": "stdout",
     "output_type": "stream",
     "text": [
      "TFIDF transformation done.\n",
      "(2011862, 20000)\n",
      "desc text features saved\n"
     ]
    }
   ],
   "source": [
    "desc_tf_idf_features = TfidfVectorizer(ngram_range=(1, 2),\n",
    "                                       lowercase=True,\n",
    "                                       analyzer='word',\n",
    "                                       smooth_idf=False,\n",
    "                                       sublinear_tf=True,\n",
    "                                       max_features=20000,\n",
    "                                       max_df=0.9, stop_words=stopwords.words('russian'),\n",
    "                                       norm='l2').fit_transform(all_texts)\n",
    "print('TFIDF transformation done.')\n",
    "with open('desc_text_feature_tf_vec.pickle', 'wb') as handle:\n",
    "    pickle.dump(desc_tf_idf_features, handle, protocol=pickle.HIGHEST_PROTOCOL)\n",
    "    print(desc_tf_idf_features.shape)\n",
    "    print('desc text features saved')\n",
    "    del desc_tf_idf_features; gc.collect()"
   ]
  },
  {
   "cell_type": "code",
   "execution_count": null,
   "metadata": {
    "collapsed": true
   },
   "outputs": [],
   "source": [
    "desc_count_vec_features = CountVectorizer(ngram_range =(1,1), lowercase=True,\n",
    "                                          max_features=20000, max_df=0.9).fit_transform(all_texts)\n",
    "\n",
    "with open('desc_text_feature_count_vec_1gram.pickle', 'wb') as handle:\n",
    "    pickle.dump(csr_matrix(desc_count_vec_features), handle, protocol=pickle.HIGHEST_PROTOCOL)\n",
    "    print('desc text features saved')\n",
    "    del desc_count_vec_features; gc.collect()"
   ]
  },
  {
   "cell_type": "code",
   "execution_count": 6,
   "metadata": {},
   "outputs": [
    {
     "name": "stdout",
     "output_type": "stream",
     "text": [
      "desc text features saved\n"
     ]
    }
   ],
   "source": [
    "desc_count_vec_features = CountVectorizer(ngram_range =(2,2), lowercase=True,\n",
    "                                          max_features=20000, max_df=0.9).fit_transform(all_texts)\n",
    "\n",
    "with open('desc_text_feature_count_vec_2gram.pickle', 'wb') as handle:\n",
    "    pickle.dump(csr_matrix(desc_count_vec_features), handle, protocol=pickle.HIGHEST_PROTOCOL)\n",
    "    print('desc text features saved')\n",
    "    del desc_count_vec_features; gc.collect()"
   ]
  },
  {
   "cell_type": "markdown",
   "metadata": {
    "collapsed": true
   },
   "source": [
    "## Merge + PCA"
   ]
  },
  {
   "cell_type": "code",
   "execution_count": 2,
   "metadata": {
    "collapsed": true
   },
   "outputs": [],
   "source": [
    "import pandas as pd\n",
    "import numpy as np\n",
    "import gc; gc.enable()\n",
    "from sklearn.feature_extraction.text import CountVectorizer, TfidfVectorizer\n",
    "from nltk.corpus import stopwords\n",
    "import pickle\n",
    "from scipy.sparse import csr_matrix, hstack\n",
    "import matplotlib\n",
    "import matplotlib.pyplot as plt\n",
    "%matplotlib inline"
   ]
  },
  {
   "cell_type": "code",
   "execution_count": 2,
   "metadata": {
    "collapsed": true
   },
   "outputs": [],
   "source": [
    "merge_files = [\n",
    "    'title_text_feature_count_vec.pickle',\n",
    "    'param_text_feature_count_vec.pickle',\n",
    "    'desc_text_feature_tf_vec.pickle',\n",
    "    'desc_text_feature_count_vec_1gram.pickle',\n",
    "    'desc_text_feature_count_vec_2gram.pickle'\n",
    "]"
   ]
  },
  {
   "cell_type": "code",
   "execution_count": 3,
   "metadata": {
    "collapsed": true
   },
   "outputs": [],
   "source": [
    "all_text = hstack([pickle.load(open(f, 'rb')) for f in merge_files]).tocsr()"
   ]
  },
  {
   "cell_type": "code",
   "execution_count": 4,
   "metadata": {},
   "outputs": [
    {
     "data": {
      "text/plain": [
       "(2011862, 77837)"
      ]
     },
     "execution_count": 4,
     "metadata": {},
     "output_type": "execute_result"
    }
   ],
   "source": [
    "all_text.shape"
   ]
  },
  {
   "cell_type": "code",
   "execution_count": 5,
   "metadata": {},
   "outputs": [
    {
     "name": "stdout",
     "output_type": "stream",
     "text": [
      "desc text features saved\n"
     ]
    }
   ],
   "source": [
    "with open('all_text_fusion.pickle', 'wb') as handle:\n",
    "    pickle.dump(all_text, handle, protocol=pickle.HIGHEST_PROTOCOL)\n",
    "    print('desc text features saved')"
   ]
  },
  {
   "cell_type": "code",
   "execution_count": 6,
   "metadata": {
    "collapsed": true
   },
   "outputs": [],
   "source": [
    "from sklearn.decomposition import TruncatedSVD"
   ]
  },
  {
   "cell_type": "code",
   "execution_count": 7,
   "metadata": {},
   "outputs": [],
   "source": [
    "svd_raw = TruncatedSVD(n_components=500).fit(all_text)"
   ]
  },
  {
   "cell_type": "code",
   "execution_count": 8,
   "metadata": {},
   "outputs": [
    {
     "data": {
      "image/png": "[encoded data removed]",
      "text/plain": [
       "<matplotlib.figure.Figure at 0x3913f98>"
      ]
     },
     "metadata": {},
     "output_type": "display_data"
    }
   ],
   "source": [
    "pd.Series(svd_raw.explained_variance_ratio_).plot()\n",
    "plt.show()"
   ]
  },
  {
   "cell_type": "code",
   "execution_count": 13,
   "metadata": {},
   "outputs": [
    {
     "data": {
      "image/png": "[encoded data removed]",
      "text/plain": [
       "<matplotlib.figure.Figure at 0xc898b00>"
      ]
     },
     "metadata": {},
     "output_type": "display_data"
    }
   ],
   "source": [
    "pd.Series(svd_raw.explained_variance_ratio_[300:]).plot()\n",
    "plt.show()"
   ]
  },
  {
   "cell_type": "markdown",
   "metadata": {},
   "source": [
    "> Feature num=300 is good enough by the explained var ratio."
   ]
  },
  {
   "cell_type": "code",
   "execution_count": 14,
   "metadata": {
    "collapsed": true
   },
   "outputs": [],
   "source": [
    "all_text_svd = TruncatedSVD(n_components=300).fit_transform(all_text)"
   ]
  },
  {
   "cell_type": "code",
   "execution_count": 15,
   "metadata": {
    "collapsed": true
   },
   "outputs": [],
   "source": [
    "train_len = pd.read_csv('data/train.csv', usecols=['deal_probability']).shape[0]"
   ]
  },
  {
   "cell_type": "code",
   "execution_count": 16,
   "metadata": {},
   "outputs": [
    {
     "name": "stdout",
     "output_type": "stream",
     "text": [
      "desc text features saved\n"
     ]
    }
   ],
   "source": [
    "with open('train_text_svd.pickle', 'wb') as handle:\n",
    "    pickle.dump(all_text_svd[:train_len,:], handle, protocol=pickle.HIGHEST_PROTOCOL)\n",
    "    print('desc text features saved')"
   ]
  },
  {
   "cell_type": "code",
   "execution_count": 17,
   "metadata": {},
   "outputs": [
    {
     "name": "stdout",
     "output_type": "stream",
     "text": [
      "desc text features saved\n"
     ]
    }
   ],
   "source": [
    "with open('test_text_svd.pickle', 'wb') as handle:\n",
    "    pickle.dump(all_text_svd[train_len:,:], handle, protocol=pickle.HIGHEST_PROTOCOL)\n",
    "    print('desc text features saved')"
   ]
  }
 ],
 "metadata": {
  "kernelspec": {
   "display_name": "Python 3",
   "language": "python",
   "name": "python3"
  },
  "language_info": {
   "codemirror_mode": {
    "name": "ipython",
    "version": 3
   },
   "file_extension": ".py",
   "mimetype": "text/x-python",
   "name": "python",
   "nbconvert_exporter": "python",
   "pygments_lexer": "ipython3",
   "version": "3.6.2"
  }
 },
 "nbformat": 4,
 "nbformat_minor": 2
}
